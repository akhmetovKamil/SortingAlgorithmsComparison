{
 "cells": [
  {
   "cell_type": "markdown",
   "source": [],
   "metadata": {
    "collapsed": false
   },
   "id": "696e6481a65dca88"
  },
  {
   "cell_type": "code",
   "execution_count": 1,
   "id": "initial_id",
   "metadata": {
    "collapsed": true,
    "ExecuteTime": {
     "end_time": "2024-05-05T23:44:25.123327Z",
     "start_time": "2024-05-05T23:44:22.878747Z"
    }
   },
   "outputs": [],
   "source": [
    "import matplotlib.pyplot as plt\n",
    "import json\n",
    "import numpy as np"
   ]
  },
  {
   "cell_type": "code",
   "outputs": [],
   "source": [
    "data = {}\n",
    "with open('data.json') as f:\n",
    "    data = json.load(f)"
   ],
   "metadata": {
    "collapsed": false,
    "ExecuteTime": {
     "end_time": "2024-05-05T23:44:25.193856Z",
     "start_time": "2024-05-05T23:44:25.132703Z"
    }
   },
   "id": "9172414f84065178",
   "execution_count": 2
  },
  {
   "cell_type": "markdown",
   "source": [
    "### Генерация гистограмм только с сортировками "
   ],
   "metadata": {
    "collapsed": false
   },
   "id": "eda8c4045c02ae89"
  },
  {
   "cell_type": "code",
   "outputs": [],
   "source": [
    "coef = 15\n",
    "for type in data:\n",
    "    for genType in data[type]:\n",
    "        for length in data[type][genType]:\n",
    "            values = [float(x) / 1000000 for x in data[type][genType][length].values()]\n",
    "            keys = list(data[type][genType][length].keys())\n",
    "            min_value = min(values)\n",
    "            first_values = [v for v in values if v <= coef * min_value]\n",
    "            first_keys = [k for k, v in zip(keys, values) if v <= coef * min_value]\n",
    "            second_values = [v for v in values if v > coef * min_value]\n",
    "            second_keys = [k for k, v in zip(keys, values) if v > coef * min_value]\n",
    "            fig, axs = plt.subplots(3, figsize=(20, 24))\n",
    "            axs[0].bar(keys, values)\n",
    "            axs[0].set_xlabel('Алгоритм Сортировки')\n",
    "            axs[0].set_ylabel('Время в микросекундах')\n",
    "            axs[0].set_title(f'Все сортировки на типе - {type}, тип генерации - {genType}, длина - {length}')\n",
    "            if second_values:\n",
    "                axs[1].bar(first_keys, first_values)\n",
    "                axs[1].set_xlabel('Алгоритм Сортировки')\n",
    "                axs[1].set_ylabel('Время в микросекундах')\n",
    "                axs[1].set_title(f'Первая группа сортировок на типе - {type}, тип генерации - {genType}, длина - {length}')\n",
    "                axs[2].bar(second_keys, second_values)\n",
    "                axs[2].set_xlabel('Алгоритм Сортировки')\n",
    "                axs[2].set_ylabel('Время в микросекундах')\n",
    "                axs[2].set_title(f'Вторая группа сортировок на типе - {type}, тип генерации - {genType}, длина - {length}')\n",
    "            plt.tight_layout()\n",
    "            plt.savefig(f'results_1/{type}_{genType}_{length}.png')\n",
    "            plt.close()"
   ],
   "metadata": {
    "collapsed": false,
    "ExecuteTime": {
     "end_time": "2024-05-05T19:38:37.375222Z",
     "start_time": "2024-05-05T19:36:16.836182Z"
    }
   },
   "id": "7f9d4ef2dfa6c4c",
   "execution_count": 37
  },
  {
   "cell_type": "markdown",
   "source": [
    "### Генерация гистограмм с сортировками и типами генерации"
   ],
   "metadata": {
    "collapsed": false
   },
   "id": "e97c03c6eb984067"
  },
  {
   "cell_type": "code",
   "outputs": [],
   "source": [
    "for type in data:\n",
    "    for genType in data[type]:\n",
    "        for length in data[type][genType]:\n",
    "            plt.figure(figsize=(20, 8))\n",
    "            keys = list(data[type][genType][length].keys())\n",
    "            genTypes = list(data[type].keys())\n",
    "            values = np.zeros((len(genTypes), len(keys)))\n",
    "            for i, genType in enumerate(genTypes):\n",
    "                values[i] = [float(x) / 1000000 for x in data[type][genType][length].values()]\n",
    "            barWidth = 0.15\n",
    "            r = np.arange(len(keys))\n",
    "            for i in range(len(genTypes)):\n",
    "                plt.bar(r + i * barWidth, values[i], width=barWidth, edgecolor='white', label=genTypes[i])\n",
    "            plt.xlabel('Алгоритм Сортировки', fontweight='bold')\n",
    "            plt.ylabel('Время в микросекундах', fontweight='bold')\n",
    "            plt.xticks([r + barWidth for r in range(len(keys))], keys)\n",
    "            plt.legend()\n",
    "            plt.title(f'Сравнение сортировок на типе - {type}, длина - {length}')\n",
    "            plt.savefig(f'results_2/{type}_{length}_3D.png')\n",
    "            plt.close()"
   ],
   "metadata": {
    "collapsed": false,
    "ExecuteTime": {
     "end_time": "2024-05-05T20:28:13.185375Z",
     "start_time": "2024-05-05T20:27:03.352607Z"
    }
   },
   "id": "93252b93a46aeef8",
   "execution_count": 44
  }
 ],
 "metadata": {
  "kernelspec": {
   "display_name": "Python 3",
   "language": "python",
   "name": "python3"
  },
  "language_info": {
   "codemirror_mode": {
    "name": "ipython",
    "version": 2
   },
   "file_extension": ".py",
   "mimetype": "text/x-python",
   "name": "python",
   "nbconvert_exporter": "python",
   "pygments_lexer": "ipython2",
   "version": "2.7.6"
  }
 },
 "nbformat": 4,
 "nbformat_minor": 5
}
